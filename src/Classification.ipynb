{
 "cells": [
  {
   "cell_type": "code",
   "execution_count": 13,
   "metadata": {},
   "outputs": [],
   "source": [
    "from tqdm import trange\n",
    "\n",
    "import re\n",
    "import numpy as np\n",
    "import pandas as pd\n",
    "import matplotlib.pyplot as plt\n",
    "import seaborn as sns\n",
    "\n",
    "from string import punctuation\n",
    "from nltk.corpus import stopwords\n",
    "from pymystem3 import Mystem\n",
    "from sklearn.feature_extraction.text import CountVectorizer\n",
    "from sklearn.model_selection import train_test_split\n",
    "\n",
    "\n",
    "import torch\n",
    "import torch.optim as optim\n",
    "import torch.nn as nn\n",
    "import transformers\n",
    "\n",
    "from sklearn.metrics import accuracy_score\n",
    "from sklearn.metrics import f1_score\n",
    "from sklearn.metrics import roc_auc_score"
   ]
  },
  {
   "cell_type": "code",
   "execution_count": 1,
   "metadata": {},
   "outputs": [
    {
     "name": "stdout",
     "output_type": "stream",
     "text": [
      "Looking in indexes: https://download.pytorch.org/whl/nightly/cpu\n",
      "Collecting torch\n",
      "  Downloading https://download.pytorch.org/whl/nightly/cpu/torch-2.3.0.dev20240222-cp312-none-macosx_11_0_arm64.whl (60.6 MB)\n",
      "\u001b[2K     \u001b[90m━━━━━━━━━━━━━━━━━━━━━━━━━━━━━━━━━━━━━━━━\u001b[0m \u001b[32m60.6/60.6 MB\u001b[0m \u001b[31m2.5 MB/s\u001b[0m eta \u001b[36m0:00:00\u001b[0m00:01\u001b[0m00:01\u001b[0mm\n",
      "\u001b[?25hCollecting torchvision\n",
      "  Downloading https://download.pytorch.org/whl/nightly/cpu/torchvision-0.18.0.dev20240222-cp312-cp312-macosx_11_0_arm64.whl (1.7 MB)\n",
      "\u001b[2K     \u001b[90m━━━━━━━━━━━━━━━━━━━━━━━━━━━━━━━━━━━━━━━━\u001b[0m \u001b[32m1.7/1.7 MB\u001b[0m \u001b[31m2.5 MB/s\u001b[0m eta \u001b[36m0:00:00\u001b[0ma \u001b[36m0:00:01\u001b[0m\n",
      "\u001b[?25hCollecting torchaudio\n",
      "  Downloading https://download.pytorch.org/whl/nightly/cpu/torchaudio-2.2.0.dev20240222-cp312-cp312-macosx_11_0_arm64.whl (1.8 MB)\n",
      "\u001b[2K     \u001b[90m━━━━━━━━━━━━━━━━━━━━━━━━━━━━━━━━━━━━━━━━\u001b[0m \u001b[32m1.8/1.8 MB\u001b[0m \u001b[31m2.8 MB/s\u001b[0m eta \u001b[36m0:00:00\u001b[0m00:01\u001b[0m00:01\u001b[0m\n",
      "\u001b[?25hCollecting filelock (from torch)\n",
      "  Downloading https://download.pytorch.org/whl/nightly/filelock-3.9.0-py3-none-any.whl (9.7 kB)\n",
      "Collecting typing-extensions>=4.8.0 (from torch)\n",
      "  Downloading https://download.pytorch.org/whl/nightly/typing_extensions-4.8.0-py3-none-any.whl (31 kB)\n",
      "Collecting sympy (from torch)\n",
      "  Downloading https://download.pytorch.org/whl/nightly/sympy-1.11.1-py3-none-any.whl (6.5 MB)\n",
      "\u001b[2K     \u001b[90m━━━━━━━━━━━━━━━━━━━━━━━━━━━━━━━━━━━━━━━━\u001b[0m \u001b[32m6.5/6.5 MB\u001b[0m \u001b[31m2.8 MB/s\u001b[0m eta \u001b[36m0:00:00\u001b[0ma \u001b[36m0:00:01\u001b[0m\n",
      "\u001b[?25hCollecting networkx (from torch)\n",
      "  Downloading https://download.pytorch.org/whl/nightly/networkx-3.0rc1-py3-none-any.whl (2.0 MB)\n",
      "\u001b[2K     \u001b[90m━━━━━━━━━━━━━━━━━━━━━━━━━━━━━━━━━━━━━━━━\u001b[0m \u001b[32m2.0/2.0 MB\u001b[0m \u001b[31m2.7 MB/s\u001b[0m eta \u001b[36m0:00:00\u001b[0ma \u001b[36m0:00:01\u001b[0m\n",
      "\u001b[?25hCollecting jinja2 (from torch)\n",
      "  Downloading https://download.pytorch.org/whl/nightly/Jinja2-3.1.2-py3-none-any.whl (133 kB)\n",
      "\u001b[2K     \u001b[90m━━━━━━━━━━━━━━━━━━━━━━━━━━━━━━━━━━━━━\u001b[0m \u001b[32m133.1/133.1 kB\u001b[0m \u001b[31m646.4 kB/s\u001b[0m eta \u001b[36m0:00:00\u001b[0ma \u001b[36m0:00:01\u001b[0m\n",
      "\u001b[?25hCollecting fsspec (from torch)\n",
      "  Downloading https://download.pytorch.org/whl/nightly/fsspec-2023.4.0-py3-none-any.whl (153 kB)\n",
      "\u001b[2K     \u001b[90m━━━━━━━━━━━━━━━━━━━━━━━━━━━━━━━━━━━━━━━\u001b[0m \u001b[32m154.0/154.0 kB\u001b[0m \u001b[31m2.5 MB/s\u001b[0m eta \u001b[36m0:00:00\u001b[0ma \u001b[36m0:00:01\u001b[0m\n",
      "\u001b[?25hCollecting numpy (from torchvision)\n",
      "  Downloading https://download.pytorch.org/whl/nightly/numpy-1.26.2-cp312-cp312-macosx_11_0_arm64.whl (13.7 MB)\n",
      "\u001b[2K     \u001b[90m━━━━━━━━━━━━━━━━━━━━━━━━━━━━━━━━━━━━━━━━\u001b[0m \u001b[32m13.7/13.7 MB\u001b[0m \u001b[31m2.7 MB/s\u001b[0m eta \u001b[36m0:00:00\u001b[0m00:01\u001b[0m00:01\u001b[0m\n",
      "\u001b[?25hCollecting pillow!=8.3.*,>=5.3.0 (from torchvision)\n",
      "  Downloading https://download.pytorch.org/whl/nightly/Pillow-10.1.0-cp312-cp312-macosx_11_0_arm64.whl (3.3 MB)\n",
      "\u001b[2K     \u001b[90m━━━━━━━━━━━━━━━━━━━━━━━━━━━━━━━━━━━━━━━━\u001b[0m \u001b[32m3.3/3.3 MB\u001b[0m \u001b[31m2.7 MB/s\u001b[0m eta \u001b[36m0:00:00\u001b[0m00:01\u001b[0m00:01\u001b[0m0m\n",
      "\u001b[?25hCollecting MarkupSafe>=2.0 (from jinja2->torch)\n",
      "  Downloading https://download.pytorch.org/whl/nightly/MarkupSafe-2.1.3-cp312-cp312-macosx_10_9_universal2.whl (17 kB)\n",
      "Collecting mpmath>=0.19 (from sympy->torch)\n",
      "  Downloading https://download.pytorch.org/whl/nightly/mpmath-1.2.1-py3-none-any.whl (532 kB)\n",
      "\u001b[2K     \u001b[90m━━━━━━━━━━━━━━━━━━━━━━━━━━━━━━━━━━━━━━━\u001b[0m \u001b[32m532.6/532.6 kB\u001b[0m \u001b[31m1.4 MB/s\u001b[0m eta \u001b[36m0:00:00\u001b[0m00:01\u001b[0m00:01\u001b[0m\n",
      "\u001b[?25hInstalling collected packages: mpmath, typing-extensions, sympy, pillow, numpy, networkx, MarkupSafe, fsspec, filelock, jinja2, torch, torchvision, torchaudio\n",
      "Successfully installed MarkupSafe-2.1.3 filelock-3.9.0 fsspec-2023.4.0 jinja2-3.1.2 mpmath-1.2.1 networkx-3.0rc1 numpy-1.26.2 pillow-10.1.0 sympy-1.11.1 torch-2.3.0.dev20240222 torchaudio-2.2.0.dev20240222 torchvision-0.18.0.dev20240222 typing-extensions-4.8.0\n"
     ]
    }
   ],
   "source": [
    "! pip3 install --pre torch torchvision torchaudio --index-url https://download.pytorch.org/whl/nightly/cpu"
   ]
  },
  {
   "cell_type": "markdown",
   "metadata": {},
   "source": [
    "# 1. Выбор пайплайна и модели классификации\n",
    "\n",
    "В качестве моделей рассматриваются следующие виды.\n",
    "1. **Логистическая регрессия**. Является простой моделью. При наличии хороших эмбедингов может показать неплохую точность особенно в задачах с небольшим количеством классов. Явными плюсами являются быстрое обучение, простота модели, легковесность модели, скорость работы. \n",
    "2. **DAN (Deep Averaging Network)**. Также является простой моделью, являющаяся нейронной сетью с 2мя слоями. Для данной модели можно выделить следующие достоинства: простота реализации и относительная простота обучения, хорошая точность в задачах с небольшим числом классов. Reference: \"Mohit Iyyer, Varun Manjunatha, Jordan Boyd-Graber, Hal Daume III // Deep Unordered Composition Rivals Syntactic Methods for Text Classification\"\n",
    "3. **RNN**. Рекуррентные нейронные сети – сильные модели, требующие большое количество данных и ресурсов на обучение. Способны решать сложные задачи классификации. Однако данный вид моделей имеет много недостатков и для подобной \"простой\" классификации избыточен.\n",
    "4. **CNN**. Сверточные нейронные сети – не менее сильные модели, требующие меньше ресурсов по сравнению с RNN. CNN позволяет учитывать локальный контекст слов без явного использования словарных N-грамм. Хорошо подходит как для улучшения качества классификации базовых моделей.\n",
    "\n",
    "Для обучения первой модели считаю оптимальным выбором DAN за простоту реализации и обучения. Данную модель далее будем использовать как бейзлайн для сравнения с другими моделями.\n",
    "Для относительного сравнения полученной модели будем обучать логистическую регрессию как наиболее простую модель."
   ]
  },
  {
   "cell_type": "markdown",
   "metadata": {},
   "source": [
    "# 2. Выбор функции потерь и метрик для оценивания результатов классификации\n",
    "\n",
    "Данный датасет имеет 3 класса: 0 – NEUTRAL, 1 – POSITIVE, 2 – NEGATIVE.\n",
    "\n",
    "Функцией потерь для DAN будет являться:\n",
    "$$E(w) = \\frac{1}{n}\\sum_{i=1}^n L(F,(x^{(i)},\\sigma^{(i)}))=-\\frac{1}{n}\\sum_{i=1}^n\\sum_{k=1}^{K=3}\\sigma_k^{(i)}\\ln F_k(x^{(i)})\\rightarrow\\min_w$$\n",
    "где:\n",
    "- $F$ – распределение вероятностей прогнозов модели;\n",
    "- $L(F,(x,\\sigma))$ – функция потерь;\n",
    "- $K=3$ – количество классов;\n",
    "- $\\sigma$ – распределение истинных ответов;\n",
    "- x – экземпляр датасета;\n",
    "- w – набор гиперпараметров модели, которые корректрируются в процессе обучения.\n",
    "\n",
    "Для оценивания результатов классификации выбраны следующие метрики:\n",
    "- ROC AUC в качестве общемодельной метрики;\n",
    "- f1 score с параметром $\\beta=1$;\n",
    "P.S. используется и микро- и макро- усреднение."
   ]
  },
  {
   "cell_type": "code",
   "execution_count": 3,
   "metadata": {},
   "outputs": [],
   "source": [
    "def get_metrics(y_pred, y_prob, y_true):\n",
    "    acc_score = accuracy_score(y_true, y_pred)\n",
    "    f1_macro = f1_score(y_true, y_pred, average='macro')\n",
    "    f1_micro = f1_score(y_true, y_pred, average='micro')\n",
    "    roc_auc = roc_auc_score(y_true, y_prob, multi_class=\"ovo\")\n",
    "    resut_dict = {\"acc_score\": acc_score, \n",
    "                  \"f1_macro\": f1_macro, \n",
    "                  \"f1_micro\": f1_micro, \n",
    "                  \"roc_auc\": roc_auc}\n",
    "    return resut_dict\n"
   ]
  },
  {
   "cell_type": "code",
   "execution_count": 4,
   "metadata": {},
   "outputs": [],
   "source": [
    "def compare(models_names, *args):\n",
    "    values = [list(arg.values()) for arg in args]\n",
    "    columns = [list(arg.keys()) for arg in args]\n",
    "    return pd.DataFrame(data=values, columns=columns, index=models_names)"
   ]
  },
  {
   "cell_type": "markdown",
   "metadata": {},
   "source": [
    "# 3. Подготовка датасета к обучению\n",
    "\n",
    "Preprocessing pipline:\n",
    "1. Удаление пунктуации.\n",
    "2. Приведение к нижнему регистру.\n",
    "3. Удаление стоп-слов.\n",
    "4. Получение эмбедингов из rubert-tiny2\n",
    "5. Разбиение выборки на тренировочную, валидационную и тестовую"
   ]
  },
  {
   "cell_type": "code",
   "execution_count": 4,
   "metadata": {},
   "outputs": [],
   "source": [
    "df = pd.read_csv(\"../data/datasets.csv\")"
   ]
  },
  {
   "cell_type": "code",
   "execution_count": 5,
   "metadata": {},
   "outputs": [],
   "source": [
    "russian_stopwords = stopwords.words(\"russian\")\n",
    "mystem = Mystem() \n",
    "\n",
    "def clean(sentence):\n",
    "    # удаление всех символов, не являющихся буквами или цифрами\n",
    "    sentence = re.sub(\"[^0-9a-zA-Zа-яА-Я]+\", \" \", sentence)\n",
    "    \n",
    "    # приведение к нижнему ригистру\n",
    "    sentence = sentence.lower()\n",
    "\n",
    "    # удаление лишних пробелов в тексте\n",
    "    sentence = re.sub(\"  \", \" \", sentence)\n",
    "\n",
    "    # замена буквы ё на е\n",
    "    sentence = re.sub(\"ё\", \"е\", sentence)\n",
    "\n",
    "    # удаление переносов строки\n",
    "    sentence = re.sub(\"\\n\", \".\", sentence)\n",
    "\n",
    "    # удаление стопслов\n",
    "    tokens = mystem.lemmatize(sentence)\n",
    "    tokens = [token for token in tokens if token not in russian_stopwords\\\n",
    "              and token != \" \" \\\n",
    "              and token.strip() not in punctuation]\n",
    "    res_sentence = \" \".join(tokens)\n",
    "    \n",
    "    return res_sentence"
   ]
  },
  {
   "cell_type": "code",
   "execution_count": 4,
   "metadata": {},
   "outputs": [],
   "source": [
    "cleaned_df = df.copy(deep=True)\n",
    "cleaned_df[\"text\"] = df[\"text\"].apply(clean)"
   ]
  },
  {
   "cell_type": "code",
   "execution_count": 5,
   "metadata": {},
   "outputs": [],
   "source": [
    "# One-hot encoding для меток классов\n",
    "data = pd.get_dummies(cleaned_df, columns = ['sentiment'], drop_first=False)"
   ]
  },
  {
   "cell_type": "code",
   "execution_count": 76,
   "metadata": {},
   "outputs": [],
   "source": [
    "# Сохранение полученных данных \n",
    "data.to_csv(\"../data/prepeared_data.csv\")"
   ]
  },
  {
   "cell_type": "code",
   "execution_count": 5,
   "metadata": {},
   "outputs": [
    {
     "data": {
      "text/html": [
       "<div>\n",
       "<style scoped>\n",
       "    .dataframe tbody tr th:only-of-type {\n",
       "        vertical-align: middle;\n",
       "    }\n",
       "\n",
       "    .dataframe tbody tr th {\n",
       "        vertical-align: top;\n",
       "    }\n",
       "\n",
       "    .dataframe thead th {\n",
       "        text-align: right;\n",
       "    }\n",
       "</style>\n",
       "<table border=\"1\" class=\"dataframe\">\n",
       "  <thead>\n",
       "    <tr style=\"text-align: right;\">\n",
       "      <th></th>\n",
       "      <th>text</th>\n",
       "      <th>sentiment_0</th>\n",
       "      <th>sentiment_1</th>\n",
       "      <th>sentiment_2</th>\n",
       "    </tr>\n",
       "  </thead>\n",
       "  <tbody>\n",
       "    <tr>\n",
       "      <th>0</th>\n",
       "      <td>развод деньги наблюдаться лайфклиника беременн...</td>\n",
       "      <td>0</td>\n",
       "      <td>1</td>\n",
       "      <td>0</td>\n",
       "    </tr>\n",
       "    <tr>\n",
       "      <th>1</th>\n",
       "      <td>отель выбирать рядом стадион отель 4 номер бол...</td>\n",
       "      <td>1</td>\n",
       "      <td>0</td>\n",
       "      <td>0</td>\n",
       "    </tr>\n",
       "    <tr>\n",
       "      <th>2</th>\n",
       "      <td>вылечивать гноиться рождение глазик поликлиник...</td>\n",
       "      <td>0</td>\n",
       "      <td>1</td>\n",
       "      <td>0</td>\n",
       "    </tr>\n",
       "    <tr>\n",
       "      <th>3</th>\n",
       "      <td>хороший расположение вокзал доходить пешком но...</td>\n",
       "      <td>1</td>\n",
       "      <td>0</td>\n",
       "      <td>0</td>\n",
       "    </tr>\n",
       "    <tr>\n",
       "      <th>4</th>\n",
       "      <td>отличный месторасположение прекрасный вид особ...</td>\n",
       "      <td>0</td>\n",
       "      <td>1</td>\n",
       "      <td>0</td>\n",
       "    </tr>\n",
       "  </tbody>\n",
       "</table>\n",
       "</div>"
      ],
      "text/plain": [
       "                                                text  sentiment_0  \\\n",
       "0  развод деньги наблюдаться лайфклиника беременн...            0   \n",
       "1  отель выбирать рядом стадион отель 4 номер бол...            1   \n",
       "2  вылечивать гноиться рождение глазик поликлиник...            0   \n",
       "3  хороший расположение вокзал доходить пешком но...            1   \n",
       "4  отличный месторасположение прекрасный вид особ...            0   \n",
       "\n",
       "   sentiment_1  sentiment_2  \n",
       "0            1            0  \n",
       "1            0            0  \n",
       "2            1            0  \n",
       "3            0            0  \n",
       "4            1            0  "
      ]
     },
     "execution_count": 5,
     "metadata": {},
     "output_type": "execute_result"
    }
   ],
   "source": [
    "data = pd.read_csv(\"../data/prepeared_data.csv\")[[\"text\", \"sentiment_0\", \"sentiment_1\", \"sentiment_2\"]]\n",
    "data.head()"
   ]
  },
  {
   "cell_type": "code",
   "execution_count": 6,
   "metadata": {},
   "outputs": [],
   "source": [
    "# очищение данных с пропусками\n",
    "data = data.dropna()"
   ]
  },
  {
   "cell_type": "code",
   "execution_count": 7,
   "metadata": {},
   "outputs": [],
   "source": [
    "# получаем предложения и метки\n",
    "x_sentence = data[\"text\"]\n",
    "y = data[[\"sentiment_0\", \"sentiment_1\", \"sentiment_2\"]].to_numpy()"
   ]
  },
  {
   "cell_type": "code",
   "execution_count": 8,
   "metadata": {},
   "outputs": [],
   "source": [
    "# инициализация rubert-tiny2 модели эмбедингов\n",
    "model_name = \"cointegrated/rubert-tiny2\"\n",
    "tokenizer = transformers.AutoTokenizer.from_pretrained(model_name)\n",
    "model = transformers.AutoModel.from_pretrained(model_name)"
   ]
  },
  {
   "cell_type": "code",
   "execution_count": 9,
   "metadata": {},
   "outputs": [],
   "source": [
    "def get_embeddings_rubert(x):\n",
    "    tokenized = tokenizer(x, padding=True, truncation=True, return_tensors=\"pt\")\n",
    "    embeddings = model(**tokenized, output_hidden_states=True).hidden_states[0].sum(axis=1)\n",
    "    return embeddings"
   ]
  },
  {
   "cell_type": "code",
   "execution_count": 251,
   "metadata": {},
   "outputs": [
    {
     "name": "stderr",
     "output_type": "stream",
     "text": [
      "100%|██████████| 210977/210977 [24:38<00:00, 142.73it/s]\n"
     ]
    }
   ],
   "source": [
    "# получение эмбедингов для всего датасета\n",
    "res_x = []\n",
    "for i in trange(x_sentence.shape[0]):\n",
    "    sent_i = x_sentence.iloc[i]\n",
    "    embedding = get_embeddings_rubert(sent_i)\n",
    "    res_x.append(embedding.detach().numpy())\n",
    "\n",
    "res_x = np.array(res_x)\n",
    "res_x = res_x.reshape((res_x.shape[0], 312))"
   ]
  },
  {
   "cell_type": "code",
   "execution_count": 10,
   "metadata": {},
   "outputs": [],
   "source": [
    "# получение меток (для логистической регрессии в виде массива с индексом класса)\n",
    "y_tags = y.argmax(axis=1)"
   ]
  },
  {
   "cell_type": "code",
   "execution_count": 489,
   "metadata": {},
   "outputs": [],
   "source": [
    "pd.DataFrame(res_x).to_csv(\"../data/embeddings.csv\")"
   ]
  },
  {
   "cell_type": "code",
   "execution_count": 11,
   "metadata": {},
   "outputs": [
    {
     "data": {
      "text/plain": [
       "(210977, 312)"
      ]
     },
     "execution_count": 11,
     "metadata": {},
     "output_type": "execute_result"
    }
   ],
   "source": [
    "embeddings = pd.read_csv(\"../data/embeddings.csv\", index_col=0).to_numpy()\n",
    "embeddings.shape"
   ]
  },
  {
   "cell_type": "markdown",
   "metadata": {},
   "source": [
    "# 4. Логистическая регрессия"
   ]
  },
  {
   "cell_type": "code",
   "execution_count": 16,
   "metadata": {},
   "outputs": [],
   "source": [
    "X_train, X_test, y_train, y_test = train_test_split(embeddings, y_tags, test_size=0.25, random_state=42)"
   ]
  },
  {
   "cell_type": "code",
   "execution_count": 17,
   "metadata": {},
   "outputs": [
    {
     "name": "stderr",
     "output_type": "stream",
     "text": [
      "/Library/Frameworks/Python.framework/Versions/3.11/lib/python3.11/site-packages/sklearn/linear_model/_logistic.py:458: ConvergenceWarning: lbfgs failed to converge (status=1):\n",
      "STOP: TOTAL NO. of ITERATIONS REACHED LIMIT.\n",
      "\n",
      "Increase the number of iterations (max_iter) or scale the data as shown in:\n",
      "    https://scikit-learn.org/stable/modules/preprocessing.html\n",
      "Please also refer to the documentation for alternative solver options:\n",
      "    https://scikit-learn.org/stable/modules/linear_model.html#logistic-regression\n",
      "  n_iter_i = _check_optimize_result(\n"
     ]
    }
   ],
   "source": [
    "from sklearn.linear_model import LogisticRegression\n",
    "# 100 итераций обучения \n",
    "clf = LogisticRegression(random_state=42, max_iter=100).fit(X_train, y_train)"
   ]
  },
  {
   "cell_type": "code",
   "execution_count": 18,
   "metadata": {},
   "outputs": [],
   "source": [
    "# получаем метрики качества\n",
    "y_pred_logreg = clf.predict(X_test)\n",
    "y_prob_logreg = clf.predict_proba(X_test)\n",
    "log_reg_metrics = get_metrics(y_pred_logreg, y_prob_logreg, y_test)"
   ]
  },
  {
   "cell_type": "code",
   "execution_count": 34,
   "metadata": {},
   "outputs": [
    {
     "data": {
      "text/plain": [
       "['../models/log_reg.pkl']"
      ]
     },
     "execution_count": 34,
     "metadata": {},
     "output_type": "execute_result"
    }
   ],
   "source": [
    "import joblib\n",
    "joblib.dump(clf, \"../models/log_reg.pkl\")"
   ]
  },
  {
   "cell_type": "markdown",
   "metadata": {},
   "source": [
    "# 5. DAN"
   ]
  },
  {
   "cell_type": "code",
   "execution_count": 14,
   "metadata": {},
   "outputs": [],
   "source": [
    "# разбиение данных на  обучающую, валидационную и тестовую выборки в соотношении 0.6 : 0.2 : 0.2\n",
    "X_train, X_test, y_train, y_test = train_test_split(embeddings, y, test_size=0.2, random_state=1)\n",
    "X_train, X_val, y_train, y_val = train_test_split(X_train, y_train, test_size=0.25, random_state=1) # 0.25 x 0.8 = 0.2"
   ]
  },
  {
   "cell_type": "code",
   "execution_count": 15,
   "metadata": {},
   "outputs": [],
   "source": [
    "class DAN(nn.Module):\n",
    "    \"\"\"\n",
    "    Класс нейронной сети – DAN.\n",
    "    Состоит из 2х линейных слоев с droput \n",
    "    \"\"\"\n",
    "\n",
    "    def __init__(self,\n",
    "                 d_embed=312,\n",
    "                 d_hidden=156,\n",
    "                 d_out=3,\n",
    "                 dp=0.2):\n",
    "        super(DAN, self).__init__()\n",
    "\n",
    "        self.device = torch.device('cuda' if torch.cuda.is_available() else 'cpu')\n",
    "\n",
    "        # Создания 2х слоев NN\n",
    "        self.dropout_1 = nn.Dropout(dp)\n",
    "        self.batch_norm_1 = nn.BatchNorm1d(d_embed)\n",
    "        self.lin_layer_1 = nn.Linear(d_embed, d_hidden)\n",
    "        self.dropout_2 = nn.Dropout(dp)\n",
    "        self.batch_norm_2 = nn.BatchNorm1d(d_hidden)\n",
    "        self.lin_layer_2 = nn.Linear(d_hidden, d_out)\n",
    "        self.softmax = nn.Softmax()\n",
    "\n",
    "        # Инициализация весов для линейных слоев по методу Xavier/Glorot\n",
    "        nn.init.xavier_normal_(self.lin_layer_1.weight)\n",
    "        nn.init.xavier_normal_(self.lin_layer_2.weight)\n",
    "\n",
    "    def forward(self, x):\n",
    "\n",
    "        x = self.dropout_1(x)\n",
    "        x = self.batch_norm_1(x)\n",
    "        x = self.lin_layer_1(x)\n",
    "        x = self.dropout_2(x)\n",
    "        x = self.batch_norm_2(x)\n",
    "        x = self.lin_layer_2(x)\n",
    "\n",
    "        return self.softmax(x)"
   ]
  },
  {
   "cell_type": "code",
   "execution_count": 16,
   "metadata": {},
   "outputs": [],
   "source": [
    "class Dataset(torch.utils.data.Dataset):\n",
    "  \"\"\"\n",
    "  Класс датасета с x, y – np.array или pd.Series\n",
    "  \"\"\"\n",
    "\n",
    "  def __init__(self, x, y):\n",
    "        self.x = x\n",
    "        self.y = y\n",
    "\n",
    "  def __len__(self):\n",
    "        return len(self.x)\n",
    "\n",
    "  def __getitem__(self, index):\n",
    "        return torch.tensor(self.x[index], dtype=torch.float32), torch.tensor(self.y[index], dtype=torch.float32)"
   ]
  },
  {
   "cell_type": "code",
   "execution_count": 17,
   "metadata": {},
   "outputs": [],
   "source": [
    "def train_loop(dataloader, model, loss_fn, optimizer):\n",
    "    train_losses = []\n",
    "\n",
    "    # Обучение на mini-batch\n",
    "    model.train()\n",
    "    for batch, (X, y) in enumerate(dataloader):\n",
    "        pred = model(X)\n",
    "        loss = loss_fn(pred, y)\n",
    "        \n",
    "        loss.backward()\n",
    "        optimizer.step()\n",
    "        optimizer.zero_grad()\n",
    "        train_losses.append(loss.detach().numpy())\n",
    "\n",
    "    # Валидация\n",
    "    model.eval()\n",
    "    val_pred = model(torch.tensor(X_val).to(\"cpu\", dtype=torch.float32))\n",
    "    val_loss = loss_fn(val_pred, torch.tensor(y_val).to(\"cpu\", dtype=torch.float32)).detach().numpy()\n",
    "\n",
    "    return np.average(train_losses), val_loss"
   ]
  },
  {
   "cell_type": "code",
   "execution_count": 18,
   "metadata": {},
   "outputs": [],
   "source": [
    "# Параметры оптимизатора\n",
    "optimizer_params = {\n",
    "    \"lr\": 0.01,             \n",
    "    \"weight_decay\": 1e-5    # используется L2 регуляризация для избежания переобучения\n",
    "}\n",
    "\n",
    "dataloader_params = {\n",
    "    'batch_size': 50000,    # размер каждого минибетча – 50000 \n",
    "    'shuffle': True         # данные выбираются случайным образом (а не по порядку)\n",
    "    }\n",
    "\n",
    "model = DAN()\n",
    "loss_fn = nn.CrossEntropyLoss()\n",
    "optimizer = torch.optim.Adamax(model.parameters(), **optimizer_params)\n",
    "\n",
    "training_set = Dataset(X_train, y_train)\n",
    "\n",
    "training_generator = torch.utils.data.DataLoader(training_set, **dataloader_params)"
   ]
  },
  {
   "cell_type": "code",
   "execution_count": 19,
   "metadata": {},
   "outputs": [
    {
     "name": "stderr",
     "output_type": "stream",
     "text": [
      "  0%|          | 0/100 [00:00<?, ?it/s]/Library/Frameworks/Python.framework/Versions/3.11/lib/python3.11/site-packages/torch/nn/modules/module.py:1511: UserWarning: Implicit dimension choice for softmax has been deprecated. Change the call to include dim=X as an argument.\n",
      "  return self._call_impl(*args, **kwargs)\n",
      "100%|██████████| 100/100 [02:49<00:00,  1.70s/it]\n"
     ]
    }
   ],
   "source": [
    "epochs = 100\n",
    "\n",
    "train_losses = []\n",
    "val_losses = []\n",
    "\n",
    "for epoch_i in trange(epochs):\n",
    "    train_loss, val_loss = train_loop(training_generator, model, loss_fn, optimizer)\n",
    "    train_losses.append(train_loss)\n",
    "    val_losses.append(val_loss)"
   ]
  },
  {
   "cell_type": "code",
   "execution_count": 28,
   "metadata": {},
   "outputs": [],
   "source": [
    "torch.save(model.state_dict(), \"../models/DAN\")"
   ]
  },
  {
   "cell_type": "code",
   "execution_count": 25,
   "metadata": {},
   "outputs": [
    {
     "data": {
      "text/plain": [
       "<matplotlib.legend.Legend at 0x311c0c590>"
      ]
     },
     "execution_count": 25,
     "metadata": {},
     "output_type": "execute_result"
    },
    {
     "data": {
      "image/png": "[encoded data removed]",
      "text/plain": [
       "<Figure size 640x480 with 1 Axes>"
      ]
     },
     "metadata": {},
     "output_type": "display_data"
    }
   ],
   "source": [
    "val_losses_list = [i.tolist() for i in val_losses]\n",
    "train_losses_list = [i.tolist() for i in train_losses]\n",
    "plt.plot(np.arange(len(train_losses_list)).tolist(), train_losses_list, label=\"Train\")\n",
    "plt.plot(np.arange(len(val_losses_list)).tolist(), val_losses_list, label=\"Val\")\n",
    "plt.title(\"График функции потерь при обучении\")\n",
    "plt.xlabel(\"Номер итерации\")\n",
    "plt.ylabel(\"Значение функции потерь\")\n",
    "plt.legend()"
   ]
  },
  {
   "cell_type": "code",
   "execution_count": 26,
   "metadata": {},
   "outputs": [],
   "source": [
    "# получаем метрики качества\n",
    "y_prob_dan = model(torch.tensor(X_test, dtype=torch.float32)).detach().numpy()\n",
    "y_pred_dan = y_prob_dan.argmax(axis=1)\n",
    "real_indexes = y_test.argmax(axis=1)\n",
    "dan_metrics = get_metrics(y_pred_dan, y_prob_dan, real_indexes)"
   ]
  },
  {
   "cell_type": "code",
   "execution_count": 27,
   "metadata": {},
   "outputs": [
    {
     "data": {
      "text/html": [
       "<div>\n",
       "<style scoped>\n",
       "    .dataframe tbody tr th:only-of-type {\n",
       "        vertical-align: middle;\n",
       "    }\n",
       "\n",
       "    .dataframe tbody tr th {\n",
       "        vertical-align: top;\n",
       "    }\n",
       "\n",
       "    .dataframe thead tr th {\n",
       "        text-align: left;\n",
       "    }\n",
       "</style>\n",
       "<table border=\"1\" class=\"dataframe\">\n",
       "  <thead>\n",
       "    <tr>\n",
       "      <th></th>\n",
       "      <th>acc_score</th>\n",
       "      <th>f1_macro</th>\n",
       "      <th>f1_micro</th>\n",
       "      <th>roc_auc</th>\n",
       "    </tr>\n",
       "    <tr>\n",
       "      <th></th>\n",
       "      <th>acc_score</th>\n",
       "      <th>f1_macro</th>\n",
       "      <th>f1_micro</th>\n",
       "      <th>roc_auc</th>\n",
       "    </tr>\n",
       "  </thead>\n",
       "  <tbody>\n",
       "    <tr>\n",
       "      <th>log reg</th>\n",
       "      <td>0.665314</td>\n",
       "      <td>0.637165</td>\n",
       "      <td>0.665314</td>\n",
       "      <td>0.834108</td>\n",
       "    </tr>\n",
       "    <tr>\n",
       "      <th>DAN</th>\n",
       "      <td>0.666793</td>\n",
       "      <td>0.643699</td>\n",
       "      <td>0.666793</td>\n",
       "      <td>0.801716</td>\n",
       "    </tr>\n",
       "  </tbody>\n",
       "</table>\n",
       "</div>"
      ],
      "text/plain": [
       "        acc_score  f1_macro  f1_micro   roc_auc\n",
       "        acc_score  f1_macro  f1_micro   roc_auc\n",
       "log reg  0.665314  0.637165  0.665314  0.834108\n",
       "DAN      0.666793  0.643699  0.666793  0.801716"
      ]
     },
     "execution_count": 27,
     "metadata": {},
     "output_type": "execute_result"
    }
   ],
   "source": [
    "df = compare([\"log reg\", \"DAN\"], log_reg_metrics, dan_metrics)\n",
    "df"
   ]
  },
  {
   "cell_type": "markdown",
   "metadata": {},
   "source": [
    "В результате модели Логистической регрессии и DAN показали схожие результаты на одинаковых эмбедингах. \n",
    "Для более точной оценки обобщающих способностей данных моделей требуется провести серию обучений моделей (например по методу K-Fold)."
   ]
  },
  {
   "cell_type": "markdown",
   "metadata": {},
   "source": [
    "# 6. Подведение итогов\n",
    "\n",
    "В результате проделанной работы были обучены 2 классификатора: Логистическая регрессия и DAN.\n",
    "Оба классификатора показали схожие результаты.\n",
    "Так как классификаторы не являются тяжелыми моделями, какая-то серьезная оптимизация не требуется\n",
    "\n",
    "Для улучшения результатов классификации считаю оправданным применение CNN под каждый эмбединг каждого токена текста, а не усреднение как в случае вышеперечисленных алгоритмов. Данный подход требует большего числа ресурсов, однако он способен выявить более сложные закономерности в данных, чем Логистическая регрессия или DAN."
   ]
  },
  {
   "cell_type": "code",
   "execution_count": null,
   "metadata": {},
   "outputs": [],
   "source": []
  }
 ],
 "metadata": {
  "kernelspec": {
   "display_name": "Python 3",
   "language": "python",
   "name": "python3"
  },
  "language_info": {
   "codemirror_mode": {
    "name": "ipython",
    "version": 3
   },
   "file_extension": ".py",
   "mimetype": "text/x-python",
   "name": "python",
   "nbconvert_exporter": "python",
   "pygments_lexer": "ipython3",
   "version": "3.11.1"
  }
 },
 "nbformat": 4,
 "nbformat_minor": 2
}
